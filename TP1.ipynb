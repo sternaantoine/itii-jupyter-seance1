{
 "cells": [
  {
   "cell_type": "markdown",
   "metadata": {},
   "source": [
    "# TP1\n",
    "###### Antoine Sterna - 3IRC - 09/09/2020"
   ]
  },
  {
   "cell_type": "markdown",
   "metadata": {},
   "source": [
    "## Exercice 1"
   ]
  },
  {
   "cell_type": "code",
   "execution_count": 13,
   "metadata": {},
   "outputs": [
    {
     "name": "stdout",
     "output_type": "stream",
     "text": [
      "11008.664256954233\n"
     ]
    }
   ],
   "source": [
    "import math \n",
    "\n",
    "def volume_cone(rayon, hauteur):\n",
    "    return (math.pi * (rayon**2) * hauteur) /3\n",
    "\n",
    "print(volume_cone(14.5,50))"
   ]
  },
  {
   "cell_type": "markdown",
   "metadata": {},
   "source": [
    "## Exercice 2\n"
   ]
  },
  {
   "cell_type": "code",
   "execution_count": 16,
   "metadata": {},
   "outputs": [
    {
     "name": "stdout",
     "output_type": "stream",
     "text": [
      "36\n"
     ]
    }
   ],
   "source": [
    "def somme_cube(n : int):\n",
    "    i = 0\n",
    "    somme = 0\n",
    "    \n",
    "    while i < n:\n",
    "        i+=1\n",
    "        somme += i ** 3\n",
    "        \n",
    "    return somme\n",
    "print(somme_cube(3))"
   ]
  },
  {
   "cell_type": "code",
   "execution_count": 18,
   "metadata": {},
   "outputs": [
    {
     "name": "stdout",
     "output_type": "stream",
     "text": [
      "6\n"
     ]
    }
   ],
   "source": [
    "def somme(n : int):\n",
    "    i = 0\n",
    "    somme = 0\n",
    "    \n",
    "    while i < n:\n",
    "        i+=1\n",
    "        somme += i \n",
    "        \n",
    "    return somme\n",
    "print(somme(3))"
   ]
  },
  {
   "cell_type": "markdown",
   "metadata": {},
   "source": [
    "## Exercice 3"
   ]
  },
  {
   "cell_type": "code",
   "execution_count": 21,
   "metadata": {},
   "outputs": [
    {
     "data": {
      "text/plain": [
       "300"
      ]
     },
     "execution_count": 21,
     "metadata": {},
     "output_type": "execute_result"
    }
   ],
   "source": [
    "def occu_one(n : int):\n",
    "    i = 0\n",
    "    total = 0\n",
    "    while i < n:\n",
    "        if(\"1\" in str(i)):\n",
    "            total += str(i).count(\"1\")\n",
    "        i += 1\n",
    "    return total \n",
    "\n",
    "occu_one(999)         \n",
    "        \n",
    "    \n",
    "        \n",
    "    "
   ]
  },
  {
   "cell_type": "code",
   "execution_count": 23,
   "metadata": {},
   "outputs": [
    {
     "data": {
      "text/plain": [
       "3.0"
      ]
     },
     "execution_count": 23,
     "metadata": {},
     "output_type": "execute_result"
    }
   ],
   "source": [
    "def decimal(n :int):\n",
    "    \n",
    "    return float(n)\n",
    "\n",
    "decimal(3)"
   ]
  },
  {
   "cell_type": "code",
   "execution_count": null,
   "metadata": {},
   "outputs": [],
   "source": []
  }
 ],
 "metadata": {
  "kernelspec": {
   "display_name": "Python 3",
   "language": "python",
   "name": "python3"
  },
  "language_info": {
   "codemirror_mode": {
    "name": "ipython",
    "version": 3
   },
   "file_extension": ".py",
   "mimetype": "text/x-python",
   "name": "python",
   "nbconvert_exporter": "python",
   "pygments_lexer": "ipython3",
   "version": "3.7.6"
  }
 },
 "nbformat": 4,
 "nbformat_minor": 4
}
